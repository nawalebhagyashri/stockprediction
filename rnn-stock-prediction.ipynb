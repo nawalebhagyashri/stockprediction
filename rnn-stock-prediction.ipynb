{
 "cells": [
  {
   "cell_type": "code",
   "execution_count": 2,
   "metadata": {
    "_cell_guid": "b1076dfc-b9ad-4769-8c92-a6c4dae69d19",
    "_uuid": "8f2839f25d086af736a60e9eeb907d3b93b6e0e5"
   },
   "outputs": [
    {
     "data": {
      "text/html": [
       "        <script type=\"text/javascript\">\n",
       "        window.PlotlyConfig = {MathJaxConfig: 'local'};\n",
       "        if (window.MathJax && window.MathJax.Hub && window.MathJax.Hub.Config) {window.MathJax.Hub.Config({SVG: {font: \"STIX-Web\"}});}\n",
       "        if (typeof require !== 'undefined') {\n",
       "        require.undef(\"plotly\");\n",
       "        requirejs.config({\n",
       "            paths: {\n",
       "                'plotly': ['https://cdn.plot.ly/plotly-2.12.1.min']\n",
       "            }\n",
       "        });\n",
       "        require(['plotly'], function(Plotly) {\n",
       "            window._Plotly = Plotly;\n",
       "        });\n",
       "        }\n",
       "        </script>\n",
       "        "
      ]
     },
     "metadata": {},
     "output_type": "display_data"
    }
   ],
   "source": [
    "import tensorflow as tf\n",
    "from tensorflow import keras\n",
    "\n",
    "import yfinance as yf\n",
    "\n",
    "import matplotlib as mpl\n",
    "import matplotlib.pyplot as plt\n",
    "import numpy as np\n",
    "import os\n",
    "import pandas as pd\n",
    "import datetime\n",
    "\n",
    "mpl.rcParams['figure.figsize'] = (16, 10)\n",
    "mpl.rcParams['axes.grid'] = False\n",
    "\n",
    "import plotly.offline as py\n",
    "# That's line needed if you use jupyter notebook (.ipynb):\n",
    "py.init_notebook_mode(connected=True)\n",
    "\n",
    "import plotly.graph_objects as go"
   ]
  },
  {
   "cell_type": "code",
   "execution_count": 3,
   "metadata": {},
   "outputs": [],
   "source": [
    "RANDOM_SEED = 42\n",
    "\n",
    "np.random.seed(RANDOM_SEED)\n",
    "tf.random.set_seed(RANDOM_SEED)"
   ]
  },
  {
   "cell_type": "code",
   "execution_count": 4,
   "metadata": {
    "_cell_guid": "79c7e3d0-c299-4dcb-8224-4455121ee9b0",
    "_uuid": "d629ff2d2480ee46fbb7e2d37f6b5fab8052498a"
   },
   "outputs": [
    {
     "data": {
      "text/html": [
       "<div>\n",
       "<style scoped>\n",
       "    .dataframe tbody tr th:only-of-type {\n",
       "        vertical-align: middle;\n",
       "    }\n",
       "\n",
       "    .dataframe tbody tr th {\n",
       "        vertical-align: top;\n",
       "    }\n",
       "\n",
       "    .dataframe thead th {\n",
       "        text-align: right;\n",
       "    }\n",
       "</style>\n",
       "<table border=\"1\" class=\"dataframe\">\n",
       "  <thead>\n",
       "    <tr style=\"text-align: right;\">\n",
       "      <th></th>\n",
       "      <th>Close</th>\n",
       "    </tr>\n",
       "    <tr>\n",
       "      <th>Date</th>\n",
       "      <th></th>\n",
       "    </tr>\n",
       "  </thead>\n",
       "  <tbody>\n",
       "    <tr>\n",
       "      <th>2017-08-18</th>\n",
       "      <td>69.491997</td>\n",
       "    </tr>\n",
       "    <tr>\n",
       "      <th>2017-08-21</th>\n",
       "      <td>67.571999</td>\n",
       "    </tr>\n",
       "    <tr>\n",
       "      <th>2017-08-22</th>\n",
       "      <td>68.269997</td>\n",
       "    </tr>\n",
       "    <tr>\n",
       "      <th>2017-08-23</th>\n",
       "      <td>70.554001</td>\n",
       "    </tr>\n",
       "    <tr>\n",
       "      <th>2017-08-24</th>\n",
       "      <td>70.585999</td>\n",
       "    </tr>\n",
       "  </tbody>\n",
       "</table>\n",
       "</div>"
      ],
      "text/plain": [
       "                Close\n",
       "Date                 \n",
       "2017-08-18  69.491997\n",
       "2017-08-21  67.571999\n",
       "2017-08-22  68.269997\n",
       "2017-08-23  70.554001\n",
       "2017-08-24  70.585999"
      ]
     },
     "execution_count": 4,
     "metadata": {},
     "output_type": "execute_result"
    }
   ],
   "source": [
    "# Create candlestick chart to visualize Netflix (Symbol: NFLX) values across time from 5 years ago to present\n",
    "tickerSymbol = 'TSLA'\n",
    "today = datetime.date.today()\n",
    "start = datetime.datetime(today.year-5,today.month,today.day)\n",
    "\n",
    "def dataFrame(symbol, period, startdate, enddate):\n",
    "    \n",
    "    columns = ['Open', 'High', 'Low', 'Close', 'Volume']\n",
    "    tickerData = yf.Ticker(symbol)\n",
    "    tickerDf = tickerData.history(period=period, start=startdate, end=enddate)\n",
    "    \n",
    "    return tickerDf[['Close']]\n",
    "\n",
    "df = dataFrame(tickerSymbol, '1d', start, today)\n",
    "df.head()\n"
   ]
  },
  {
   "cell_type": "markdown",
   "metadata": {},
   "source": [
    "# Preparing the data"
   ]
  },
  {
   "cell_type": "code",
   "execution_count": 5,
   "metadata": {},
   "outputs": [],
   "source": [
    "def dataFrame(symbol, period, startdate, enddate):\n",
    "    \n",
    "    columns = ['Open', 'High', 'Low', 'Close', 'Volume']\n",
    "    tickerData = yf.Ticker(symbol)\n",
    "    tickerDf = tickerData.history(period=period, start=startdate, end=enddate)\n",
    "    \n",
    "    return tickerDf[columns]\n",
    "\n",
    "df = dataFrame(tickerSymbol, '1d', start, today)"
   ]
  },
  {
   "cell_type": "code",
   "execution_count": 6,
   "metadata": {},
   "outputs": [
    {
     "data": {
      "image/png": "[encoded data removed]",
      "text/plain": [
       "<Figure size 1080x432 with 1 Axes>"
      ]
     },
     "metadata": {
      "needs_background": "light"
     },
     "output_type": "display_data"
    }
   ],
   "source": [
    "def plotChart(df):\n",
    "    plt.figure(figsize=(15,6))\n",
    "    df['Close'].plot()\n",
    "    plt.title('Stock Price over Time (%s)'%tickerSymbol, fontsize=20)\n",
    "    plt.xlabel('Date', fontsize=16)\n",
    "    plt.ylabel('Price', fontsize=16)\n",
    "    \n",
    "    for year in range(2015,2021):\n",
    "        plt.axvline(pd.to_datetime(str(year)+'-01-01'), color='k', linestyle='--', alpha=0.2)\n",
    "\n",
    "plotChart(df)"
   ]
  },
  {
   "cell_type": "code",
   "execution_count": 7,
   "metadata": {},
   "outputs": [
    {
     "name": "stdout",
     "output_type": "stream",
     "text": [
      "1007 252\n"
     ]
    }
   ],
   "source": [
    "# Split dataset 80:20 train:test\n",
    "# Print length of subsets\n",
    "df1 = df[['Close']]\n",
    "\n",
    "train_size = int(len(df1) * 0.8)\n",
    "test_size = len(df1) - train_size\n",
    "\n",
    "# Standarize dataset values to reduce loss\n",
    "train_mean = df1[:train_size].mean()\n",
    "train_std = df1[:train_size].std()\n",
    "\n",
    "df1 = (df1-train_mean)/train_std\n",
    "\n",
    "train, test = df1.iloc[0:train_size], df1.iloc[train_size:len(df1)]\n",
    "print(len(train), len(test))"
   ]
  },
  {
   "cell_type": "code",
   "execution_count": 8,
   "metadata": {},
   "outputs": [
    {
     "data": {
      "text/html": [
       "<div>\n",
       "<style scoped>\n",
       "    .dataframe tbody tr th:only-of-type {\n",
       "        vertical-align: middle;\n",
       "    }\n",
       "\n",
       "    .dataframe tbody tr th {\n",
       "        vertical-align: top;\n",
       "    }\n",
       "\n",
       "    .dataframe thead th {\n",
       "        text-align: right;\n",
       "    }\n",
       "</style>\n",
       "<table border=\"1\" class=\"dataframe\">\n",
       "  <thead>\n",
       "    <tr style=\"text-align: right;\">\n",
       "      <th></th>\n",
       "      <th>Close</th>\n",
       "    </tr>\n",
       "    <tr>\n",
       "      <th>Date</th>\n",
       "      <th></th>\n",
       "    </tr>\n",
       "  </thead>\n",
       "  <tbody>\n",
       "    <tr>\n",
       "      <th>2017-08-18</th>\n",
       "      <td>-0.604560</td>\n",
       "    </tr>\n",
       "    <tr>\n",
       "      <th>2017-08-21</th>\n",
       "      <td>-0.612389</td>\n",
       "    </tr>\n",
       "    <tr>\n",
       "      <th>2017-08-22</th>\n",
       "      <td>-0.609543</td>\n",
       "    </tr>\n",
       "    <tr>\n",
       "      <th>2017-08-23</th>\n",
       "      <td>-0.600230</td>\n",
       "    </tr>\n",
       "    <tr>\n",
       "      <th>2017-08-24</th>\n",
       "      <td>-0.600100</td>\n",
       "    </tr>\n",
       "    <tr>\n",
       "      <th>...</th>\n",
       "      <td>...</td>\n",
       "    </tr>\n",
       "    <tr>\n",
       "      <th>2021-08-12</th>\n",
       "      <td>2.056873</td>\n",
       "    </tr>\n",
       "    <tr>\n",
       "      <th>2021-08-13</th>\n",
       "      <td>2.036161</td>\n",
       "    </tr>\n",
       "    <tr>\n",
       "      <th>2021-08-16</th>\n",
       "      <td>1.909768</td>\n",
       "    </tr>\n",
       "    <tr>\n",
       "      <th>2021-08-17</th>\n",
       "      <td>1.826348</td>\n",
       "    </tr>\n",
       "    <tr>\n",
       "      <th>2021-08-18</th>\n",
       "      <td>1.921265</td>\n",
       "    </tr>\n",
       "  </tbody>\n",
       "</table>\n",
       "<p>1007 rows × 1 columns</p>\n",
       "</div>"
      ],
      "text/plain": [
       "               Close\n",
       "Date                \n",
       "2017-08-18 -0.604560\n",
       "2017-08-21 -0.612389\n",
       "2017-08-22 -0.609543\n",
       "2017-08-23 -0.600230\n",
       "2017-08-24 -0.600100\n",
       "...              ...\n",
       "2021-08-12  2.056873\n",
       "2021-08-13  2.036161\n",
       "2021-08-16  1.909768\n",
       "2021-08-17  1.826348\n",
       "2021-08-18  1.921265\n",
       "\n",
       "[1007 rows x 1 columns]"
      ]
     },
     "execution_count": 8,
     "metadata": {},
     "output_type": "execute_result"
    }
   ],
   "source": [
    "# Values of training dataset now standardize\n",
    "train"
   ]
  },
  {
   "cell_type": "code",
   "execution_count": 9,
   "metadata": {},
   "outputs": [],
   "source": [
    "def create_dataset(X, y, time_steps=1):\n",
    "    Xs, ys = [], []\n",
    "    for i in range(len(X) - time_steps):\n",
    "        v = X.iloc[i:(i + time_steps)].values\n",
    "        Xs.append(v)\n",
    "        ys.append(y.iloc[i + time_steps])\n",
    "    return np.array(Xs), np.array(ys)"
   ]
  },
  {
   "cell_type": "code",
   "execution_count": 10,
   "metadata": {},
   "outputs": [
    {
     "name": "stdout",
     "output_type": "stream",
     "text": [
      "(1006, 1, 1) (1006,)\n"
     ]
    }
   ],
   "source": [
    "# (samples, time_steps, features)\n",
    "time_steps = 1\n",
    "\n",
    "# reshape to [samples, time_steps, n_features]\n",
    "\n",
    "X_train, y_train = create_dataset(train, train.Close, time_steps)\n",
    "X_test, y_test = create_dataset(test, test.Close, time_steps)\n",
    "\n",
    "print(X_train.shape, y_train.shape)"
   ]
  },
  {
   "cell_type": "markdown",
   "metadata": {},
   "source": [
    "# Building the model"
   ]
  },
  {
   "cell_type": "code",
   "execution_count": 11,
   "metadata": {},
   "outputs": [],
   "source": [
    "import tensorflow as tf\n",
    "from keras.models import Sequential\n",
    "from keras.layers import LSTM\n",
    "from keras.layers import Dropout\n",
    "from keras.layers import Dense\n",
    "from keras.optimizers import Adam\n",
    "from sklearn.metrics import accuracy_score"
   ]
  },
  {
   "cell_type": "code",
   "execution_count": 12,
   "metadata": {},
   "outputs": [
    {
     "data": {
      "text/plain": [
       "(1, 1)"
      ]
     },
     "execution_count": 12,
     "metadata": {},
     "output_type": "execute_result"
    }
   ],
   "source": [
    "X_train.shape[-2:]"
   ]
  },
  {
   "cell_type": "code",
   "execution_count": 13,
   "metadata": {},
   "outputs": [],
   "source": [
    "def build_model(LSTM_unit, dropout, lr, train):\n",
    "    model = Sequential()\n",
    "    model.add(LSTM(units=LSTM_unit,return_sequences=True,input_shape=(train.shape[-2:])))\n",
    "    model.add(Dropout(dropout))\n",
    "\n",
    "    model.add(LSTM(units=LSTM_unit,return_sequences=True))\n",
    "    model.add(Dropout(dropout))\n",
    "\n",
    "    model.add(LSTM(units=LSTM_unit,return_sequences=True))\n",
    "    model.add(Dropout(dropout))\n",
    "\n",
    "    model.add(LSTM(units=LSTM_unit))\n",
    "    model.add(Dropout(dropout))\n",
    "\n",
    "    model.add(Dense(units=1))\n",
    "\n",
    "    model.compile(optimizer=Adam(lr),loss='mean_squared_error')\n",
    "    \n",
    "    return model\n",
    "\n",
    "model = build_model(50, 0.2, 0.001, X_train)"
   ]
  },
  {
   "cell_type": "code",
   "execution_count": 14,
   "metadata": {},
   "outputs": [
    {
     "name": "stdout",
     "output_type": "stream",
     "text": [
      "Model: \"sequential\"\n",
      "_________________________________________________________________\n",
      " Layer (type)                Output Shape              Param #   \n",
      "=================================================================\n",
      " lstm (LSTM)                 (None, 1, 50)             10400     \n",
      "                                                                 \n",
      " dropout (Dropout)           (None, 1, 50)             0         \n",
      "                                                                 \n",
      " lstm_1 (LSTM)               (None, 1, 50)             20200     \n",
      "                                                                 \n",
      " dropout_1 (Dropout)         (None, 1, 50)             0         \n",
      "                                                                 \n",
      " lstm_2 (LSTM)               (None, 1, 50)             20200     \n",
      "                                                                 \n",
      " dropout_2 (Dropout)         (None, 1, 50)             0         \n",
      "                                                                 \n",
      " lstm_3 (LSTM)               (None, 50)                20200     \n",
      "                                                                 \n",
      " dropout_3 (Dropout)         (None, 50)                0         \n",
      "                                                                 \n",
      " dense (Dense)               (None, 1)                 51        \n",
      "                                                                 \n",
      "=================================================================\n",
      "Total params: 71,051\n",
      "Trainable params: 71,051\n",
      "Non-trainable params: 0\n",
      "_________________________________________________________________\n"
     ]
    }
   ],
   "source": [
    "model.summary()"
   ]
  },
  {
   "cell_type": "code",
   "execution_count": 15,
   "metadata": {},
   "outputs": [
    {
     "name": "stdout",
     "output_type": "stream",
     "text": [
      "Epoch 1/50\n",
      "8/8 [==============================] - 12s 316ms/step - loss: 0.7494 - val_loss: 3.3440\n",
      "Epoch 2/50\n",
      "8/8 [==============================] - 0s 17ms/step - loss: 0.7355 - val_loss: 3.3367\n",
      "Epoch 3/50\n",
      "8/8 [==============================] - 0s 19ms/step - loss: 0.7298 - val_loss: 3.3084\n",
      "Epoch 4/50\n",
      "8/8 [==============================] - 0s 17ms/step - loss: 0.7198 - val_loss: 3.2498\n",
      "Epoch 5/50\n",
      "8/8 [==============================] - 0s 17ms/step - loss: 0.7006 - val_loss: 3.1337\n",
      "Epoch 6/50\n",
      "8/8 [==============================] - 0s 18ms/step - loss: 0.6644 - val_loss: 2.9138\n",
      "Epoch 7/50\n",
      "8/8 [==============================] - 0s 19ms/step - loss: 0.5991 - val_loss: 2.5269\n",
      "Epoch 8/50\n",
      "8/8 [==============================] - 0s 18ms/step - loss: 0.4900 - val_loss: 1.9094\n",
      "Epoch 9/50\n",
      "8/8 [==============================] - 0s 23ms/step - loss: 0.3434 - val_loss: 1.0626\n",
      "Epoch 10/50\n",
      "8/8 [==============================] - 0s 19ms/step - loss: 0.1690 - val_loss: 0.2482\n",
      "Epoch 11/50\n",
      "8/8 [==============================] - 0s 18ms/step - loss: 0.0638 - val_loss: 0.0146\n",
      "Epoch 12/50\n",
      "8/8 [==============================] - 0s 17ms/step - loss: 0.0377 - val_loss: 0.1083\n",
      "Epoch 13/50\n",
      "8/8 [==============================] - 0s 17ms/step - loss: 0.0242 - val_loss: 0.0310\n",
      "Epoch 14/50\n",
      "8/8 [==============================] - 0s 18ms/step - loss: 0.0181 - val_loss: 0.0055\n",
      "Epoch 15/50\n",
      "8/8 [==============================] - 0s 19ms/step - loss: 0.0214 - val_loss: 0.0087\n",
      "Epoch 16/50\n",
      "8/8 [==============================] - 0s 22ms/step - loss: 0.0183 - val_loss: 0.0065\n",
      "Epoch 17/50\n",
      "8/8 [==============================] - 0s 17ms/step - loss: 0.0196 - val_loss: 0.0052\n",
      "Epoch 18/50\n",
      "8/8 [==============================] - 0s 21ms/step - loss: 0.0164 - val_loss: 0.0075\n",
      "Epoch 19/50\n",
      "8/8 [==============================] - 0s 20ms/step - loss: 0.0153 - val_loss: 0.0070\n",
      "Epoch 20/50\n",
      "8/8 [==============================] - 0s 19ms/step - loss: 0.0152 - val_loss: 0.0058\n",
      "Epoch 21/50\n",
      "8/8 [==============================] - 0s 19ms/step - loss: 0.0173 - val_loss: 0.0059\n",
      "Epoch 22/50\n",
      "8/8 [==============================] - 0s 19ms/step - loss: 0.0184 - val_loss: 0.0062\n",
      "Epoch 23/50\n",
      "8/8 [==============================] - 0s 19ms/step - loss: 0.0208 - val_loss: 0.0073\n",
      "Epoch 24/50\n",
      "8/8 [==============================] - 0s 38ms/step - loss: 0.0165 - val_loss: 0.0083\n",
      "Epoch 25/50\n",
      "8/8 [==============================] - 0s 19ms/step - loss: 0.0160 - val_loss: 0.0141\n",
      "Epoch 26/50\n",
      "8/8 [==============================] - 0s 19ms/step - loss: 0.0161 - val_loss: 0.0063\n",
      "Epoch 27/50\n",
      "8/8 [==============================] - 0s 17ms/step - loss: 0.0191 - val_loss: 0.0061\n",
      "Epoch 28/50\n",
      "8/8 [==============================] - 0s 18ms/step - loss: 0.0185 - val_loss: 0.0075\n",
      "Epoch 29/50\n",
      "8/8 [==============================] - 0s 19ms/step - loss: 0.0171 - val_loss: 0.0084\n",
      "Epoch 30/50\n",
      "8/8 [==============================] - 0s 19ms/step - loss: 0.0164 - val_loss: 0.0063\n",
      "Epoch 31/50\n",
      "8/8 [==============================] - 0s 18ms/step - loss: 0.0180 - val_loss: 0.0064\n",
      "Epoch 32/50\n",
      "8/8 [==============================] - 0s 17ms/step - loss: 0.0178 - val_loss: 0.0065\n",
      "Epoch 33/50\n",
      "8/8 [==============================] - 0s 18ms/step - loss: 0.0150 - val_loss: 0.0130\n",
      "Epoch 34/50\n",
      "8/8 [==============================] - 0s 19ms/step - loss: 0.0171 - val_loss: 0.0087\n",
      "Epoch 35/50\n",
      "8/8 [==============================] - 0s 17ms/step - loss: 0.0154 - val_loss: 0.0113\n",
      "Epoch 36/50\n",
      "8/8 [==============================] - 0s 21ms/step - loss: 0.0155 - val_loss: 0.0112\n",
      "Epoch 37/50\n",
      "8/8 [==============================] - 0s 18ms/step - loss: 0.0188 - val_loss: 0.0070\n",
      "Epoch 38/50\n",
      "8/8 [==============================] - 0s 18ms/step - loss: 0.0177 - val_loss: 0.0060\n",
      "Epoch 39/50\n",
      "8/8 [==============================] - 0s 19ms/step - loss: 0.0178 - val_loss: 0.0089\n",
      "Epoch 40/50\n",
      "8/8 [==============================] - 0s 19ms/step - loss: 0.0149 - val_loss: 0.0113\n",
      "Epoch 41/50\n",
      "8/8 [==============================] - 0s 27ms/step - loss: 0.0174 - val_loss: 0.0061\n",
      "Epoch 42/50\n",
      "8/8 [==============================] - 0s 19ms/step - loss: 0.0175 - val_loss: 0.0060\n",
      "Epoch 43/50\n",
      "8/8 [==============================] - 0s 20ms/step - loss: 0.0191 - val_loss: 0.0063\n",
      "Epoch 44/50\n",
      "8/8 [==============================] - 0s 20ms/step - loss: 0.0154 - val_loss: 0.0087\n",
      "Epoch 45/50\n",
      "8/8 [==============================] - 0s 20ms/step - loss: 0.0180 - val_loss: 0.0076\n",
      "Epoch 46/50\n",
      "8/8 [==============================] - 0s 20ms/step - loss: 0.0169 - val_loss: 0.0061\n",
      "Epoch 47/50\n",
      "8/8 [==============================] - 0s 21ms/step - loss: 0.0179 - val_loss: 0.0079\n",
      "Epoch 48/50\n",
      "8/8 [==============================] - 0s 19ms/step - loss: 0.0209 - val_loss: 0.0061\n",
      "Epoch 49/50\n",
      "8/8 [==============================] - 0s 21ms/step - loss: 0.0169 - val_loss: 0.0061\n",
      "Epoch 50/50\n",
      "8/8 [==============================] - 0s 19ms/step - loss: 0.0166 - val_loss: 0.0061\n"
     ]
    }
   ],
   "source": [
    "history = model.fit(\n",
    "    X_train, y_train,\n",
    "    epochs=50,\n",
    "    batch_size=128,\n",
    "    validation_split=0.1,\n",
    "    verbose=1,\n",
    "    shuffle=False\n",
    ")"
   ]
  },
  {
   "cell_type": "markdown",
   "metadata": {},
   "source": [
    "# Evaluating the model"
   ]
  },
  {
   "cell_type": "code",
   "execution_count": 16,
   "metadata": {},
   "outputs": [
    {
     "data": {
      "text/plain": [
       "<module 'matplotlib.pyplot' from 'c:\\\\Program Files\\\\Python310\\\\lib\\\\site-packages\\\\matplotlib\\\\pyplot.py'>"
      ]
     },
     "execution_count": 16,
     "metadata": {},
     "output_type": "execute_result"
    },
    {
     "data": {
      "image/png": "[encoded data removed]",
      "text/plain": [
       "<Figure size 432x288 with 1 Axes>"
      ]
     },
     "metadata": {
      "needs_background": "light"
     },
     "output_type": "display_data"
    }
   ],
   "source": [
    "def loss_plot(history):\n",
    "    plt.plot(history.history['loss'], label='train')\n",
    "    plt.plot(history.history['val_loss'], label='test')\n",
    "    plt.legend()\n",
    "    \n",
    "    return plt\n",
    "\n",
    "loss_plot(history)"
   ]
  },
  {
   "cell_type": "code",
   "execution_count": 17,
   "metadata": {},
   "outputs": [
    {
     "name": "stdout",
     "output_type": "stream",
     "text": [
      "8/8 [==============================] - 2s 2ms/step\n"
     ]
    }
   ],
   "source": [
    "# Calculate original values\n",
    "y_inv = (y_train*int(train_std))+int(train_mean)\n",
    "ytest_inv = (y_test*int(train_std))+int(train_mean)\n",
    "\n",
    "# Calculate predicted values\n",
    "y_pred = model.predict(X_test)\n",
    "ypred_inv = (y_pred*int(train_std))+int(train_mean)\n",
    "\n",
    "#calculate accuracy level\n",
    "#accuracy_score(ytest_inv,ypred_inv)\n"
   ]
  },
  {
   "cell_type": "code",
   "execution_count": 18,
   "metadata": {},
   "outputs": [
    {
     "data": {
      "image/png": "[encoded data removed]",
      "text/plain": [
       "<Figure size 432x288 with 1 Axes>"
      ]
     },
     "metadata": {
      "needs_background": "light"
     },
     "output_type": "display_data"
    },
    {
     "data": {
      "text/plain": [
       "<module 'matplotlib.pyplot' from 'c:\\\\Program Files\\\\Python310\\\\lib\\\\site-packages\\\\matplotlib\\\\pyplot.py'>"
      ]
     },
     "execution_count": 18,
     "metadata": {},
     "output_type": "execute_result"
    }
   ],
   "source": [
    "def full_plot(y_inv, ytest_inv, ypred_inv):\n",
    "    plt.plot(np.arange(0, len(y_inv)), y_inv, 'g', label=\"history\")\n",
    "    plt.plot(np.arange(len(y_inv), len(y_inv) + len(ytest_inv)), ytest_inv, marker='.', label=\"true\")\n",
    "    plt.plot(np.arange(len(y_inv), len(y_inv) + len(ytest_inv)), ypred_inv, 'r', label=\"prediction\")\n",
    "    plt.ylabel('Value')\n",
    "    plt.xlabel('Time Step')\n",
    "    plt.legend()\n",
    "    plt.show()\n",
    "    \n",
    "    return plt\n",
    "\n",
    "full_plot(y_inv, ytest_inv, ypred_inv)"
   ]
  },
  {
   "cell_type": "code",
   "execution_count": 19,
   "metadata": {},
   "outputs": [
    {
     "data": {
      "image/png": "[encoded data removed]",
      "text/plain": [
       "<Figure size 432x288 with 1 Axes>"
      ]
     },
     "metadata": {
      "needs_background": "light"
     },
     "output_type": "display_data"
    },
    {
     "data": {
      "text/plain": [
       "<module 'matplotlib.pyplot' from 'c:\\\\Program Files\\\\Python310\\\\lib\\\\site-packages\\\\matplotlib\\\\pyplot.py'>"
      ]
     },
     "execution_count": 19,
     "metadata": {},
     "output_type": "execute_result"
    }
   ],
   "source": [
    "def compare_value_plot(y_inv, ytest_inv, ypred_inv):\n",
    "    plt.plot(ytest_inv, marker='.', label=\"true\")\n",
    "    plt.plot(ypred_inv, 'r', label=\"prediction\")\n",
    "    plt.ylabel('Value')\n",
    "    plt.xlabel('Time Step')\n",
    "    plt.legend()\n",
    "    plt.show()\n",
    "    \n",
    "    return plt\n",
    "\n",
    "compare_value_plot(y_inv, ytest_inv, ypred_inv)"
   ]
  },
  {
   "cell_type": "code",
   "execution_count": 20,
   "metadata": {},
   "outputs": [],
   "source": [
    "import math\n",
    "import numpy as np"
   ]
  },
  {
   "cell_type": "code",
   "execution_count": 21,
   "metadata": {},
   "outputs": [
    {
     "name": "stdout",
     "output_type": "stream",
     "text": [
      "36964.11797049466\n"
     ]
    }
   ],
   "source": [
    "MSE = np.square(np.subtract(ytest_inv,ypred_inv)).mean()\n",
    "print(MSE)"
   ]
  },
  {
   "cell_type": "code",
   "execution_count": 22,
   "metadata": {},
   "outputs": [
    {
     "name": "stdout",
     "output_type": "stream",
     "text": [
      "Root Mean Square Error:\n",
      "\n",
      "192.26054709818825\n"
     ]
    }
   ],
   "source": [
    "RMSE = math.sqrt(MSE)\n",
    "print(\"Root Mean Square Error:\\n\")\n",
    "print(RMSE)"
   ]
  }
 ],
 "metadata": {
  "kernelspec": {
   "display_name": "Python 3 (ipykernel)",
   "language": "python",
   "name": "python3"
  },
  "language_info": {
   "codemirror_mode": {
    "name": "ipython",
    "version": 3
   },
   "file_extension": ".py",
   "mimetype": "text/x-python",
   "name": "python",
   "nbconvert_exporter": "python",
   "pygments_lexer": "ipython3",
   "version": "3.10.2"
  },
  "vscode": {
   "interpreter": {
    "hash": "26de051ba29f2982a8de78e945f0abaf191376122a1563185a90213a26c5da77"
   }
  }
 },
 "nbformat": 4,
 "nbformat_minor": 4
}
