{
 "cells": [
  {
   "cell_type": "code",
   "execution_count": 11,
   "metadata": {
    "_cell_guid": "b1076dfc-b9ad-4769-8c92-a6c4dae69d19",
    "_uuid": "8f2839f25d086af736a60e9eeb907d3b93b6e0e5"
   },
   "outputs": [
    {
     "data": {
      "text/html": [
       "        <script type=\"text/javascript\">\n",
       "        window.PlotlyConfig = {MathJaxConfig: 'local'};\n",
       "        if (window.MathJax && window.MathJax.Hub && window.MathJax.Hub.Config) {window.MathJax.Hub.Config({SVG: {font: \"STIX-Web\"}});}\n",
       "        if (typeof require !== 'undefined') {\n",
       "        require.undef(\"plotly\");\n",
       "        requirejs.config({\n",
       "            paths: {\n",
       "                'plotly': ['https://cdn.plot.ly/plotly-2.12.1.min']\n",
       "            }\n",
       "        });\n",
       "        require(['plotly'], function(Plotly) {\n",
       "            window._Plotly = Plotly;\n",
       "        });\n",
       "        }\n",
       "        </script>\n",
       "        "
      ]
     },
     "metadata": {},
     "output_type": "display_data"
    }
   ],
   "source": [
    "import tensorflow as tf\n",
    "from tensorflow import keras\n",
    "\n",
    "import yfinance as yf\n",
    "\n",
    "import matplotlib as mpl\n",
    "import matplotlib.pyplot as plt\n",
    "import numpy as np\n",
    "import os\n",
    "import pandas as pd\n",
    "import datetime\n",
    "\n",
    "mpl.rcParams['figure.figsize'] = (16, 10)\n",
    "mpl.rcParams['axes.grid'] = False\n",
    "\n",
    "import plotly.offline as py\n",
    "# That's line needed if you use jupyter notebook (.ipynb):\n",
    "py.init_notebook_mode(connected=True)\n",
    "\n",
    "import plotly.graph_objects as go"
   ]
  },
  {
   "cell_type": "code",
   "execution_count": 12,
   "metadata": {},
   "outputs": [],
   "source": [
    "RANDOM_SEED = 42\n",
    "\n",
    "np.random.seed(RANDOM_SEED)\n",
    "tf.random.set_seed(RANDOM_SEED)"
   ]
  },
  {
   "cell_type": "code",
   "execution_count": 13,
   "metadata": {
    "_cell_guid": "79c7e3d0-c299-4dcb-8224-4455121ee9b0",
    "_uuid": "d629ff2d2480ee46fbb7e2d37f6b5fab8052498a"
   },
   "outputs": [],
   "source": [
    "# Create candlestick chart to visualize Netflix (Symbol: NFLX) values across time from 5 years ago to present\n",
    "tickerSymbol = 'NFLX'\n",
    "today = datetime.date.today()\n",
    "start = datetime.datetime(today.year-5,today.month,today.day)\n",
    "\n",
    "\n",
    "def candleStick(symbol, startdate, enddate):\n",
    "    tickerData = yf.Ticker(symbol)\n",
    "    df = tickerData.history(period='1d', start=startdate, end=enddate)\n",
    "    \n",
    "    fig = go.Figure(data=[go.Candlestick(x=df.index,\n",
    "                    open=df['Open'],\n",
    "                    high=df['High'],\n",
    "                    low=df['Low'],\n",
    "                    close=df['Close'])])\n",
    "\n",
    "    fig.update_layout(\n",
    "        title= {\n",
    "            'text': symbol,\n",
    "          'y':0.9,\n",
    "            'x':0.5,\n",
    "            'xanchor': 'center',\n",
    "            'yanchor': 'top'},\n",
    "          font=dict(\n",
    "            family=\"Times New Roman\",\n",
    "            size=20,\n",
    "            color=\"#7f7f7f\"\n",
    "        )\n",
    "        )\n",
    "\n",
    "    fig.show()"
   ]
  },
  {
   "cell_type": "markdown",
   "metadata": {},
   "source": [
    "# Preparing the data"
   ]
  },
  {
   "cell_type": "code",
   "execution_count": 14,
   "metadata": {},
   "outputs": [
    {
     "name": "stdout",
     "output_type": "stream",
     "text": [
      "- NFLX: No data found for this date range, symbol may be delisted\n"
     ]
    }
   ],
   "source": [
    "def dataFrame(symbol, period, startdate, enddate):\n",
    "    \n",
    "    columns = ['Open', 'High', 'Low', 'Close', 'Volume']\n",
    "    tickerData = yf.Ticker(symbol)\n",
    "    tickerDf = tickerData.history(period=period, start=startdate, end=enddate)\n",
    "    \n",
    "    return tickerDf[columns]\n",
    "\n",
    "df = dataFrame(tickerSymbol, '1d', start, today)"
   ]
  },
  {
   "cell_type": "code",
   "execution_count": 15,
   "metadata": {},
   "outputs": [
    {
     "data": {
      "image/png": "[encoded data removed]",
      "text/plain": [
       "<Figure size 1080x432 with 1 Axes>"
      ]
     },
     "metadata": {
      "needs_background": "light"
     },
     "output_type": "display_data"
    }
   ],
   "source": [
    "def plotChart(df):\n",
    "    plt.figure(figsize=(15,6))\n",
    "    df['Close'].plot()\n",
    "    plt.title('Stock Price over Time (%s)'%tickerSymbol, fontsize=20)\n",
    "    plt.xlabel('Date', fontsize=16)\n",
    "    plt.ylabel('Price', fontsize=16)\n",
    "    \n",
    "    for year in range(2015,2021):\n",
    "        plt.axvline(pd.to_datetime(str(year)+'-01-01'), color='k', linestyle='--', alpha=0.2)\n",
    "\n",
    "plotChart(df)"
   ]
  },
  {
   "cell_type": "code",
   "execution_count": 10,
   "metadata": {},
   "outputs": [
    {
     "name": "stdout",
     "output_type": "stream",
     "text": [
      "0 0\n"
     ]
    }
   ],
   "source": [
    "# Split dataset 80:20 train:test\n",
    "# Print length of subsets\n",
    "df1 = df[['Close']]\n",
    "\n",
    "train_size = int(len(df1) * 0.8)\n",
    "test_size = len(df1) - train_size\n",
    "\n",
    "# Standarize dataset values to reduce loss\n",
    "train_mean = df1[:train_size].mean()\n",
    "train_std = df1[:train_size].std()\n",
    "\n",
    "df1 = (df1-train_mean)/train_std\n",
    "\n",
    "train, test = df1.iloc[0:train_size], df1.iloc[train_size:len(df1)]\n",
    "print(len(train), len(test))"
   ]
  },
  {
   "cell_type": "code",
   "execution_count": 10,
   "metadata": {},
   "outputs": [
    {
     "data": {
      "text/html": [
       "<div>\n",
       "<style scoped>\n",
       "    .dataframe tbody tr th:only-of-type {\n",
       "        vertical-align: middle;\n",
       "    }\n",
       "\n",
       "    .dataframe tbody tr th {\n",
       "        vertical-align: top;\n",
       "    }\n",
       "\n",
       "    .dataframe thead th {\n",
       "        text-align: right;\n",
       "    }\n",
       "</style>\n",
       "<table border=\"1\" class=\"dataframe\">\n",
       "  <thead>\n",
       "    <tr style=\"text-align: right;\">\n",
       "      <th></th>\n",
       "      <th>Close</th>\n",
       "    </tr>\n",
       "    <tr>\n",
       "      <th>Date</th>\n",
       "      <th></th>\n",
       "    </tr>\n",
       "  </thead>\n",
       "  <tbody>\n",
       "    <tr>\n",
       "      <th>2017-07-17</th>\n",
       "      <td>-1.889197</td>\n",
       "    </tr>\n",
       "    <tr>\n",
       "      <th>2017-07-18</th>\n",
       "      <td>-1.685880</td>\n",
       "    </tr>\n",
       "    <tr>\n",
       "      <th>2017-07-19</th>\n",
       "      <td>-1.683466</td>\n",
       "    </tr>\n",
       "    <tr>\n",
       "      <th>2017-07-20</th>\n",
       "      <td>-1.685880</td>\n",
       "    </tr>\n",
       "    <tr>\n",
       "      <th>2017-07-21</th>\n",
       "      <td>-1.640017</td>\n",
       "    </tr>\n",
       "    <tr>\n",
       "      <th>...</th>\n",
       "      <td>...</td>\n",
       "    </tr>\n",
       "    <tr>\n",
       "      <th>2021-07-09</th>\n",
       "      <td>1.585574</td>\n",
       "    </tr>\n",
       "    <tr>\n",
       "      <th>2021-07-12</th>\n",
       "      <td>1.597922</td>\n",
       "    </tr>\n",
       "    <tr>\n",
       "      <th>2021-07-13</th>\n",
       "      <td>1.629209</td>\n",
       "    </tr>\n",
       "    <tr>\n",
       "      <th>2021-07-14</th>\n",
       "      <td>1.696703</td>\n",
       "    </tr>\n",
       "    <tr>\n",
       "      <th>2021-07-15</th>\n",
       "      <td>1.650283</td>\n",
       "    </tr>\n",
       "  </tbody>\n",
       "</table>\n",
       "<p>1007 rows × 1 columns</p>\n",
       "</div>"
      ],
      "text/plain": [
       "               Close\n",
       "Date                \n",
       "2017-07-17 -1.889197\n",
       "2017-07-18 -1.685880\n",
       "2017-07-19 -1.683466\n",
       "2017-07-20 -1.685880\n",
       "2017-07-21 -1.640017\n",
       "...              ...\n",
       "2021-07-09  1.585574\n",
       "2021-07-12  1.597922\n",
       "2021-07-13  1.629209\n",
       "2021-07-14  1.696703\n",
       "2021-07-15  1.650283\n",
       "\n",
       "[1007 rows x 1 columns]"
      ]
     },
     "execution_count": 10,
     "metadata": {},
     "output_type": "execute_result"
    }
   ],
   "source": [
    "# Values of training dataset now standardize\n",
    "train"
   ]
  },
  {
   "cell_type": "code",
   "execution_count": 11,
   "metadata": {},
   "outputs": [],
   "source": [
    "def create_dataset(X, y, time_steps=1):\n",
    "    Xs, ys = [], []\n",
    "    for i in range(len(X) - time_steps):\n",
    "        v = X.iloc[i:(i + time_steps)].values\n",
    "        Xs.append(v)\n",
    "        ys.append(y.iloc[i + time_steps])\n",
    "    return np.array(Xs), np.array(ys)"
   ]
  },
  {
   "cell_type": "code",
   "execution_count": 12,
   "metadata": {},
   "outputs": [
    {
     "name": "stdout",
     "output_type": "stream",
     "text": [
      "(1006, 1, 1) (1006,)\n"
     ]
    }
   ],
   "source": [
    "# (samples, time_steps, features)\n",
    "time_steps = 1\n",
    "\n",
    "# reshape to [samples, time_steps, n_features]\n",
    "\n",
    "X_train, y_train = create_dataset(train, train.Close, time_steps)\n",
    "X_test, y_test = create_dataset(test, test.Close, time_steps)\n",
    "\n",
    "print(X_train.shape, y_train.shape)"
   ]
  },
  {
   "cell_type": "markdown",
   "metadata": {},
   "source": [
    "# Building the model"
   ]
  },
  {
   "cell_type": "code",
   "execution_count": 23,
   "metadata": {},
   "outputs": [],
   "source": [
    "from keras.models import Sequential\n",
    "from keras.layers import LSTM\n",
    "from keras.layers import Dropout\n",
    "from keras.layers import Dense\n",
    "from keras.optimizers import Adam\n",
    "from sklearn.metrics import accuracy_score"
   ]
  },
  {
   "cell_type": "code",
   "execution_count": 14,
   "metadata": {},
   "outputs": [
    {
     "data": {
      "text/plain": [
       "(1, 1)"
      ]
     },
     "execution_count": 14,
     "metadata": {},
     "output_type": "execute_result"
    }
   ],
   "source": [
    "X_train.shape[-2:]"
   ]
  },
  {
   "cell_type": "code",
   "execution_count": 15,
   "metadata": {},
   "outputs": [],
   "source": [
    "def build_model(LSTM_unit, dropout, lr, train):\n",
    "    model = Sequential()\n",
    "    model.add(LSTM(units=LSTM_unit,return_sequences=True,input_shape=(train.shape[-2:])))\n",
    "    model.add(Dropout(dropout))\n",
    "\n",
    "    model.add(LSTM(units=LSTM_unit,return_sequences=True))\n",
    "    model.add(Dropout(dropout))\n",
    "\n",
    "    model.add(LSTM(units=LSTM_unit,return_sequences=True))\n",
    "    model.add(Dropout(dropout))\n",
    "\n",
    "    model.add(LSTM(units=LSTM_unit))\n",
    "    model.add(Dropout(dropout))\n",
    "\n",
    "    model.add(Dense(units=1))\n",
    "\n",
    "    model.compile(optimizer=Adam(lr),loss='mean_squared_error')\n",
    "    \n",
    "    return model\n",
    "\n",
    "model = build_model(50, 0.2, 0.001, X_train)"
   ]
  },
  {
   "cell_type": "code",
   "execution_count": 16,
   "metadata": {},
   "outputs": [
    {
     "name": "stdout",
     "output_type": "stream",
     "text": [
      "Model: \"sequential\"\n",
      "_________________________________________________________________\n",
      " Layer (type)                Output Shape              Param #   \n",
      "=================================================================\n",
      " lstm (LSTM)                 (None, 1, 50)             10400     \n",
      "                                                                 \n",
      " dropout (Dropout)           (None, 1, 50)             0         \n",
      "                                                                 \n",
      " lstm_1 (LSTM)               (None, 1, 50)             20200     \n",
      "                                                                 \n",
      " dropout_1 (Dropout)         (None, 1, 50)             0         \n",
      "                                                                 \n",
      " lstm_2 (LSTM)               (None, 1, 50)             20200     \n",
      "                                                                 \n",
      " dropout_2 (Dropout)         (None, 1, 50)             0         \n",
      "                                                                 \n",
      " lstm_3 (LSTM)               (None, 50)                20200     \n",
      "                                                                 \n",
      " dropout_3 (Dropout)         (None, 50)                0         \n",
      "                                                                 \n",
      " dense (Dense)               (None, 1)                 51        \n",
      "                                                                 \n",
      "=================================================================\n",
      "Total params: 71,051\n",
      "Trainable params: 71,051\n",
      "Non-trainable params: 0\n",
      "_________________________________________________________________\n"
     ]
    }
   ],
   "source": [
    "model.summary()"
   ]
  },
  {
   "cell_type": "code",
   "execution_count": 17,
   "metadata": {},
   "outputs": [
    {
     "name": "stdout",
     "output_type": "stream",
     "text": [
      "Epoch 1/50\n",
      "8/8 [==============================] - 13s 366ms/step - loss: 0.8866 - val_loss: 2.0647\n",
      "Epoch 2/50\n",
      "8/8 [==============================] - 0s 21ms/step - loss: 0.8753 - val_loss: 2.0602\n",
      "Epoch 3/50\n",
      "8/8 [==============================] - 0s 18ms/step - loss: 0.8707 - val_loss: 2.0433\n",
      "Epoch 4/50\n",
      "8/8 [==============================] - 0s 27ms/step - loss: 0.8630 - val_loss: 2.0105\n",
      "Epoch 5/50\n",
      "8/8 [==============================] - 0s 18ms/step - loss: 0.8475 - val_loss: 1.9469\n",
      "Epoch 6/50\n",
      "8/8 [==============================] - 0s 20ms/step - loss: 0.8157 - val_loss: 1.8275\n",
      "Epoch 7/50\n",
      "8/8 [==============================] - 0s 20ms/step - loss: 0.7564 - val_loss: 1.6170\n",
      "Epoch 8/50\n",
      "8/8 [==============================] - 0s 27ms/step - loss: 0.6530 - val_loss: 1.2801\n",
      "Epoch 9/50\n",
      "8/8 [==============================] - 0s 20ms/step - loss: 0.5001 - val_loss: 0.8129\n",
      "Epoch 10/50\n",
      "8/8 [==============================] - 0s 21ms/step - loss: 0.3031 - val_loss: 0.3150\n",
      "Epoch 11/50\n",
      "8/8 [==============================] - 0s 23ms/step - loss: 0.1317 - val_loss: 0.0286\n",
      "Epoch 12/50\n",
      "8/8 [==============================] - 0s 20ms/step - loss: 0.0547 - val_loss: 0.0347\n",
      "Epoch 13/50\n",
      "8/8 [==============================] - 0s 22ms/step - loss: 0.0506 - val_loss: 0.0542\n",
      "Epoch 14/50\n",
      "8/8 [==============================] - 0s 20ms/step - loss: 0.0421 - val_loss: 0.0190\n",
      "Epoch 15/50\n",
      "8/8 [==============================] - 0s 27ms/step - loss: 0.0322 - val_loss: 0.0093\n",
      "Epoch 16/50\n",
      "8/8 [==============================] - 0s 21ms/step - loss: 0.0250 - val_loss: 0.0116\n",
      "Epoch 17/50\n",
      "8/8 [==============================] - 0s 29ms/step - loss: 0.0293 - val_loss: 0.0104\n",
      "Epoch 18/50\n",
      "8/8 [==============================] - 0s 27ms/step - loss: 0.0294 - val_loss: 0.0096\n",
      "Epoch 19/50\n",
      "8/8 [==============================] - 0s 19ms/step - loss: 0.0279 - val_loss: 0.0104\n",
      "Epoch 20/50\n",
      "8/8 [==============================] - 0s 34ms/step - loss: 0.0288 - val_loss: 0.0104\n",
      "Epoch 21/50\n",
      "8/8 [==============================] - 0s 35ms/step - loss: 0.0294 - val_loss: 0.0095\n",
      "Epoch 22/50\n",
      "8/8 [==============================] - 0s 18ms/step - loss: 0.0292 - val_loss: 0.0097\n",
      "Epoch 23/50\n",
      "8/8 [==============================] - 0s 17ms/step - loss: 0.0293 - val_loss: 0.0106\n",
      "Epoch 24/50\n",
      "8/8 [==============================] - 0s 18ms/step - loss: 0.0306 - val_loss: 0.0097\n",
      "Epoch 25/50\n",
      "8/8 [==============================] - 0s 20ms/step - loss: 0.0283 - val_loss: 0.0108\n",
      "Epoch 26/50\n",
      "8/8 [==============================] - 0s 16ms/step - loss: 0.0320 - val_loss: 0.0098\n",
      "Epoch 27/50\n",
      "8/8 [==============================] - 0s 20ms/step - loss: 0.0314 - val_loss: 0.0094\n",
      "Epoch 28/50\n",
      "8/8 [==============================] - 0s 18ms/step - loss: 0.0307 - val_loss: 0.0099\n",
      "Epoch 29/50\n",
      "8/8 [==============================] - 0s 24ms/step - loss: 0.0309 - val_loss: 0.0103\n",
      "Epoch 30/50\n",
      "8/8 [==============================] - 0s 20ms/step - loss: 0.0303 - val_loss: 0.0095\n",
      "Epoch 31/50\n",
      "8/8 [==============================] - 0s 20ms/step - loss: 0.0313 - val_loss: 0.0093\n",
      "Epoch 32/50\n",
      "8/8 [==============================] - 0s 25ms/step - loss: 0.0306 - val_loss: 0.0093\n",
      "Epoch 33/50\n",
      "8/8 [==============================] - 0s 22ms/step - loss: 0.0294 - val_loss: 0.0106\n",
      "Epoch 34/50\n",
      "8/8 [==============================] - 0s 22ms/step - loss: 0.0299 - val_loss: 0.0103\n",
      "Epoch 35/50\n",
      "8/8 [==============================] - 0s 25ms/step - loss: 0.0284 - val_loss: 0.0110\n",
      "Epoch 36/50\n",
      "8/8 [==============================] - 0s 25ms/step - loss: 0.0285 - val_loss: 0.0105\n",
      "Epoch 37/50\n",
      "8/8 [==============================] - 0s 20ms/step - loss: 0.0291 - val_loss: 0.0092\n",
      "Epoch 38/50\n",
      "8/8 [==============================] - 0s 20ms/step - loss: 0.0270 - val_loss: 0.0089\n",
      "Epoch 39/50\n",
      "8/8 [==============================] - 0s 20ms/step - loss: 0.0268 - val_loss: 0.0092\n",
      "Epoch 40/50\n",
      "8/8 [==============================] - 0s 23ms/step - loss: 0.0277 - val_loss: 0.0107\n",
      "Epoch 41/50\n",
      "8/8 [==============================] - 0s 19ms/step - loss: 0.0283 - val_loss: 0.0090\n",
      "Epoch 42/50\n",
      "8/8 [==============================] - 0s 20ms/step - loss: 0.0265 - val_loss: 0.0089\n",
      "Epoch 43/50\n",
      "8/8 [==============================] - 0s 22ms/step - loss: 0.0268 - val_loss: 0.0089\n",
      "Epoch 44/50\n",
      "8/8 [==============================] - 0s 22ms/step - loss: 0.0282 - val_loss: 0.0093\n",
      "Epoch 45/50\n",
      "8/8 [==============================] - 0s 19ms/step - loss: 0.0300 - val_loss: 0.0092\n",
      "Epoch 46/50\n",
      "8/8 [==============================] - 0s 20ms/step - loss: 0.0283 - val_loss: 0.0089\n",
      "Epoch 47/50\n",
      "8/8 [==============================] - 0s 23ms/step - loss: 0.0265 - val_loss: 0.0094\n",
      "Epoch 48/50\n",
      "8/8 [==============================] - 0s 21ms/step - loss: 0.0289 - val_loss: 0.0090\n",
      "Epoch 49/50\n",
      "8/8 [==============================] - 0s 18ms/step - loss: 0.0274 - val_loss: 0.0091\n",
      "Epoch 50/50\n",
      "8/8 [==============================] - 0s 21ms/step - loss: 0.0255 - val_loss: 0.0091\n"
     ]
    }
   ],
   "source": [
    "history = model.fit(\n",
    "    X_train, y_train,\n",
    "    epochs=50,\n",
    "    batch_size=128,\n",
    "    validation_split=0.1,\n",
    "    verbose=1,\n",
    "    shuffle=False\n",
    ")"
   ]
  },
  {
   "cell_type": "markdown",
   "metadata": {},
   "source": [
    "# Evaluating the model"
   ]
  },
  {
   "cell_type": "code",
   "execution_count": 18,
   "metadata": {},
   "outputs": [
    {
     "data": {
      "text/plain": [
       "<module 'matplotlib.pyplot' from 'c:\\\\Program Files\\\\Python310\\\\lib\\\\site-packages\\\\matplotlib\\\\pyplot.py'>"
      ]
     },
     "execution_count": 18,
     "metadata": {},
     "output_type": "execute_result"
    },
    {
     "data": {
      "image/png": "[encoded data removed]",
      "text/plain": [
       "<Figure size 432x288 with 1 Axes>"
      ]
     },
     "metadata": {
      "needs_background": "light"
     },
     "output_type": "display_data"
    }
   ],
   "source": [
    "def loss_plot(history):\n",
    "    plt.plot(history.history['loss'], label='train')\n",
    "    plt.plot(history.history['val_loss'], label='test')\n",
    "    plt.legend()\n",
    "    \n",
    "    return plt\n",
    "\n",
    "loss_plot(history)"
   ]
  },
  {
   "cell_type": "code",
   "execution_count": 33,
   "metadata": {},
   "outputs": [
    {
     "name": "stdout",
     "output_type": "stream",
     "text": [
      "8/8 [==============================] - 0s 4ms/step\n"
     ]
    }
   ],
   "source": [
    "# Calculate original values\n",
    "y_inv = (y_train*int(train_std))+int(train_mean)\n",
    "ytest_inv = (y_test*int(train_std))+int(train_mean)\n",
    "\n",
    "# Calculate predicted values\n",
    "y_pred = model.predict(X_test)\n",
    "ypred_inv = (y_pred*int(train_std))+int(train_mean)\n"
   ]
  },
  {
   "cell_type": "code",
   "execution_count": 20,
   "metadata": {},
   "outputs": [
    {
     "data": {
      "image/png": "[encoded data removed]",
      "text/plain": [
       "<Figure size 432x288 with 1 Axes>"
      ]
     },
     "metadata": {
      "needs_background": "light"
     },
     "output_type": "display_data"
    },
    {
     "data": {
      "text/plain": [
       "<module 'matplotlib.pyplot' from 'c:\\\\Program Files\\\\Python310\\\\lib\\\\site-packages\\\\matplotlib\\\\pyplot.py'>"
      ]
     },
     "execution_count": 20,
     "metadata": {},
     "output_type": "execute_result"
    }
   ],
   "source": [
    "def full_plot(y_inv, ytest_inv, ypred_inv):\n",
    "    plt.plot(np.arange(0, len(y_inv)), y_inv, 'g', label=\"history\")\n",
    "    plt.plot(np.arange(len(y_inv), len(y_inv) + len(ytest_inv)), ytest_inv, marker='.', label=\"true\")\n",
    "    plt.plot(np.arange(len(y_inv), len(y_inv) + len(ytest_inv)), ypred_inv, 'r', label=\"prediction\")\n",
    "    plt.ylabel('Value')\n",
    "    plt.xlabel('Time Step')\n",
    "    plt.legend()\n",
    "    plt.show()\n",
    "    \n",
    "    return plt\n",
    "\n",
    "full_plot(y_inv, ytest_inv, ypred_inv)"
   ]
  },
  {
   "cell_type": "code",
   "execution_count": 21,
   "metadata": {},
   "outputs": [
    {
     "data": {
      "image/png": "[encoded data removed]",
      "text/plain": [
       "<Figure size 432x288 with 1 Axes>"
      ]
     },
     "metadata": {
      "needs_background": "light"
     },
     "output_type": "display_data"
    },
    {
     "data": {
      "text/plain": [
       "<module 'matplotlib.pyplot' from 'c:\\\\Program Files\\\\Python310\\\\lib\\\\site-packages\\\\matplotlib\\\\pyplot.py'>"
      ]
     },
     "execution_count": 21,
     "metadata": {},
     "output_type": "execute_result"
    }
   ],
   "source": [
    "def compare_value_plot(y_inv, ytest_inv, ypred_inv):\n",
    "    plt.plot(ytest_inv, marker='.', label=\"true\")\n",
    "    plt.plot(ypred_inv, 'r', label=\"prediction\")\n",
    "    plt.ylabel('Value')\n",
    "    plt.xlabel('Time Step')\n",
    "    plt.legend()\n",
    "    plt.show()\n",
    "    \n",
    "    return plt\n",
    "\n",
    "compare_value_plot(y_inv, ytest_inv, ypred_inv)"
   ]
  },
  {
   "cell_type": "markdown",
   "metadata": {},
   "source": []
  },
  {
   "cell_type": "markdown",
   "metadata": {},
   "source": []
  }
 ],
 "metadata": {
  "kernelspec": {
   "display_name": "Python 3 (ipykernel)",
   "language": "python",
   "name": "python3"
  },
  "language_info": {
   "codemirror_mode": {
    "name": "ipython",
    "version": 3
   },
   "file_extension": ".py",
   "mimetype": "text/x-python",
   "name": "python",
   "nbconvert_exporter": "python",
   "pygments_lexer": "ipython3",
   "version": "3.9.7"
  },
  "vscode": {
   "interpreter": {
    "hash": "26de051ba29f2982a8de78e945f0abaf191376122a1563185a90213a26c5da77"
   }
  }
 },
 "nbformat": 4,
 "nbformat_minor": 4
}
